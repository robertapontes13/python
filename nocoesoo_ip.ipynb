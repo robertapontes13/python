{
  "nbformat": 4,
  "nbformat_minor": 0,
  "metadata": {
    "colab": {
      "provenance": [],
      "authorship_tag": "ABX9TyN881rtIyiCiEXq6vtcXciN",
      "include_colab_link": true
    },
    "kernelspec": {
      "name": "python3",
      "display_name": "Python 3"
    },
    "language_info": {
      "name": "python"
    }
  },
  "cells": [
    {
      "cell_type": "markdown",
      "metadata": {
        "id": "view-in-github",
        "colab_type": "text"
      },
      "source": [
        "<a href=\"https://colab.research.google.com/github/robertapontes13/python/blob/main/nocoesoo_ip.ipynb\" target=\"_parent\"><img src=\"https://colab.research.google.com/assets/colab-badge.svg\" alt=\"Open In Colab\"/></a>"
      ]
    },
    {
      "cell_type": "code",
      "execution_count": 1,
      "metadata": {
        "colab": {
          "base_uri": "https://localhost:8080/"
        },
        "id": "Z0rwXSey5f86",
        "outputId": "a9a79be5-d9ca-4072-980c-c3310dfd03cf"
      },
      "outputs": [
        {
          "output_type": "stream",
          "name": "stdout",
          "text": [
            "xx-123\n",
            "Estou dirigindo a 60 km/h\n"
          ]
        }
      ],
      "source": [
        "# ETE Cícero Dias\n",
        "# Prof. Cloves\n",
        "# Python Noções OO\n",
        "# Estudante: roberta pontes\n",
        "\n",
        "class Automovel:\n",
        "    def __init__(self, placa='xx-123'):\n",
        "        self.placa = placa\n",
        "\n",
        "    def get_placa(self):\n",
        "        return self.placa\n",
        "\n",
        "    def dirigir(self, velocidade):\n",
        "        print(f'Estou dirigindo a {velocidade} km/h')\n",
        "\n",
        "# Exemplo de uso da classe Automovel\n",
        "carro = Automovel()\n",
        "print(carro.get_placa())\n",
        "carro.dirigir(60)\n",
        "\n"
      ]
    }
  ]
}