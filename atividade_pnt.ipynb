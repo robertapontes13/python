{
  "nbformat": 4,
  "nbformat_minor": 0,
  "metadata": {
    "colab": {
      "provenance": [],
      "authorship_tag": "ABX9TyMcdcxqoC0upXFsPKIbY9i+",
      "include_colab_link": true
    },
    "kernelspec": {
      "name": "python3",
      "display_name": "Python 3"
    },
    "language_info": {
      "name": "python"
    }
  },
  "cells": [
    {
      "cell_type": "markdown",
      "metadata": {
        "id": "view-in-github",
        "colab_type": "text"
      },
      "source": [
        "<a href=\"https://colab.research.google.com/github/robertapontes13/python/blob/main/atividade_pnt.ipynb\" target=\"_parent\"><img src=\"https://colab.research.google.com/assets/colab-badge.svg\" alt=\"Open In Colab\"/></a>"
      ]
    },
    {
      "cell_type": "code",
      "execution_count": 1,
      "metadata": {
        "colab": {
          "base_uri": "https://localhost:8080/"
        },
        "id": "tgnTn_MyuJWd",
        "outputId": "07855385-417a-4dff-eaf5-0659131de05b"
      },
      "outputs": [
        {
          "output_type": "stream",
          "name": "stdout",
          "text": [
            "Olá ETE CÍCERO DIAS\n"
          ]
        }
      ],
      "source": [
        "print ('Olá ETE CÍCERO DIAS')"
      ]
    },
    {
      "cell_type": "markdown",
      "source": [],
      "metadata": {
        "id": "cBw3lgkYulYa"
      }
    },
    {
      "cell_type": "code",
      "source": [],
      "metadata": {
        "id": "wDvCJSD7wzv8"
      },
      "execution_count": null,
      "outputs": []
    },
    {
      "cell_type": "code",
      "source": [
        "numero = int(input('digite um número: '))\n",
        "print(f'o número informado foi: {numero}')"
      ],
      "metadata": {
        "colab": {
          "base_uri": "https://localhost:8080/"
        },
        "id": "qPsjvyFXuUbU",
        "outputId": "b286c014-073c-497b-b01f-af54cb765ed4"
      },
      "execution_count": 11,
      "outputs": [
        {
          "output_type": "stream",
          "name": "stdout",
          "text": [
            "digite um número: 5\n",
            "o número informado foi: 5\n"
          ]
        }
      ]
    },
    {
      "cell_type": "code",
      "source": [
        "n1 = int(input('digite seu primeiro número:'))\n",
        "n2 = int(input('digite seu segundo número:'))\n",
        "print('a soma dos dois números é:', n1+n2)"
      ],
      "metadata": {
        "colab": {
          "base_uri": "https://localhost:8080/"
        },
        "id": "RbD2680xwL72",
        "outputId": "a5bb07ab-bdac-4bc7-d5a1-a0a6d61ab5b7"
      },
      "execution_count": 13,
      "outputs": [
        {
          "output_type": "stream",
          "name": "stdout",
          "text": [
            "digite seu primeiro número:2\n",
            "digite seu segundo número:5\n",
            "a soma dos dois números é: 7\n"
          ]
        }
      ]
    },
    {
      "cell_type": "code",
      "source": [
        "n1 = float( input('digite sua primeira nota:'))\n",
        "n2 = float (input('digite sua segunda nota:'))\n",
        "n3 = float (input('digite sua terceira nota:'))\n",
        "n4 = float (input('digite sua quarta nota:'))\n",
        "media = (n1+n2+n3+n4) /4\n",
        "print(f'sua média é:{media}')"
      ],
      "metadata": {
        "colab": {
          "base_uri": "https://localhost:8080/"
        },
        "id": "RBjZy0Jax6si",
        "outputId": "8661c649-568a-4edb-b7ed-9a81fdf3c412"
      },
      "execution_count": 28,
      "outputs": [
        {
          "output_type": "stream",
          "name": "stdout",
          "text": [
            "digite sua primeira nota:6\n",
            "digite sua segunda nota:5\n",
            "digite sua terceira nota:4\n",
            "digite sua quarta nota:4\n",
            "sua média é:4.75\n"
          ]
        }
      ]
    },
    {
      "cell_type": "code",
      "source": [],
      "metadata": {
        "id": "x9pns6EI2LjR"
      },
      "execution_count": null,
      "outputs": []
    }
  ]
}