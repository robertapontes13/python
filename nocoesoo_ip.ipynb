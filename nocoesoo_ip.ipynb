{
  "nbformat": 4,
  "nbformat_minor": 0,
  "metadata": {
    "colab": {
      "provenance": [],
      "authorship_tag": "ABX9TyM4YnGK9uZS18F6lvUVJ19H",
      "include_colab_link": true
    },
    "kernelspec": {
      "name": "python3",
      "display_name": "Python 3"
    },
    "language_info": {
      "name": "python"
    }
  },
  "cells": [
    {
      "cell_type": "markdown",
      "metadata": {
        "id": "view-in-github",
        "colab_type": "text"
      },
      "source": [
        "<a href=\"https://colab.research.google.com/github/robertapontes13/python/blob/main/nocoesoo_ip.ipynb\" target=\"_parent\"><img src=\"https://colab.research.google.com/assets/colab-badge.svg\" alt=\"Open In Colab\"/></a>"
      ]
    },
    {
      "cell_type": "code",
      "execution_count": 39,
      "metadata": {
        "colab": {
          "base_uri": "https://localhost:8080/"
        },
        "id": "Z0rwXSey5f86",
        "outputId": "9d561cb9-707b-4669-c317-f29ab41306ec"
      },
      "outputs": [
        {
          "output_type": "execute_result",
          "data": {
            "text/plain": [
              "10"
            ]
          },
          "metadata": {},
          "execution_count": 39
        }
      ],
      "source": [
        "# ETE CICERO DIAS\n",
        "# PYTHON NOÇÕES OO\n",
        "# ESTUDANTE: ROBERTA PONTES\n",
        "\n",
        "class Carro:\n",
        "    def __init__(self):\n",
        "       self._nrodas = 4\n",
        "    def set_nrodas(self, n):\n",
        "       self._nrodas = n\n",
        "\n",
        "gol = Carro()\n",
        "gol._nrodas\n",
        "\n",
        "gol.set_nrodas(10)\n",
        "gol._nrodas\n",
        "\n"
      ]
    }
  ]
}