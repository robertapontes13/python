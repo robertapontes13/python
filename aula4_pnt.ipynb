{
  "nbformat": 4,
  "nbformat_minor": 0,
  "metadata": {
    "colab": {
      "provenance": []
    },
    "kernelspec": {
      "name": "python3",
      "display_name": "Python 3"
    },
    "language_info": {
      "name": "python"
    }
  },
  "cells": [
    {
      "cell_type": "code",
      "execution_count": null,
      "metadata": {
        "id": "KBd0JWIPu41B"
      },
      "outputs": [],
      "source": [
        "\"\"\"\n",
        "#ETE CICERO DIAS\n",
        "#DOCENTE: CLOVIS\n",
        "#ESTUDANTE: ROBERTA\n",
        "#print(\" ROBERTA\")\n",
        "#tipos \"\"\"\n",
        "\n",
        "c = False\n",
        "print(type(c))"
      ]
    }
  ]
}