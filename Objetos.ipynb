{
  "nbformat": 4,
  "nbformat_minor": 0,
  "metadata": {
    "colab": {
      "provenance": [],
      "include_colab_link": true
    },
    "kernelspec": {
      "name": "python3",
      "display_name": "Python 3"
    },
    "language_info": {
      "name": "python"
    }
  },
  "cells": [
    {
      "cell_type": "markdown",
      "metadata": {
        "id": "view-in-github",
        "colab_type": "text"
      },
      "source": [
        "<a href=\"https://colab.research.google.com/github/robertapontes13/python/blob/main/Objetos.ipynb\" target=\"_parent\"><img src=\"https://colab.research.google.com/assets/colab-badge.svg\" alt=\"Open In Colab\"/></a>"
      ]
    },
    {
      "cell_type": "code",
      "execution_count": null,
      "metadata": {
        "colab": {
          "base_uri": "https://localhost:8080/"
        },
        "id": "uPmX_-yt8Ooe",
        "outputId": "3aa0bacb-5954-463a-9058-0c804fbced49"
      },
      "outputs": [
        {
          "output_type": "stream",
          "name": "stdout",
          "text": [
            "Gal\n",
            "18\n",
            "Olá, meu nome é Gal, tenho 18 anos, moro em Rua rio prado, 190 e sou do sexo feminino.\n"
          ]
        }
      ],
      "source": [
        "\"\"\" grupo: ANA BEATRIZ, LUCAS NASCIMENTO, ROBERTA PONTES\n",
        "\"\"\"\n",
        "\n",
        "\n",
        "class Pessoa:\n",
        "    def __init__(self, nome, idade, endereco, sexo):\n",
        "        self.nome = nome\n",
        "        self.idade = idade\n",
        "        self.endereco = endereco\n",
        "        self.sexo = sexo\n",
        "\n",
        "    def apresentar(self):\n",
        "        return f\"Olá, meu nome é {self.nome}, tenho {self.idade} anos, moro em {self.endereco} e sou do sexo {self.sexo}.\"\n",
        "\n",
        "\n",
        "pessoa1 = Pessoa('Gal', 18, 'Rua rio prado, 190', 'feminino')\n",
        "\n",
        "print(pessoa1.nome)\n",
        "print(pessoa1.idade)\n",
        "print(pessoa1.apresentar())\n",
        "\n"
      ]
    },
    {
      "cell_type": "code",
      "source": [
        "\n",
        "class Pessoa:\n",
        "    def __init__(self, nome, idade, endereco, genero):\n",
        "        self.nome = nome\n",
        "        self.idade = idade\n",
        "        self.endereco = endereco\n",
        "        self.genero = genero\n",
        "\n",
        "    def apresentar(self):\n",
        "        return f\"Nome: {self.nome}, Idade: {self.idade}, Endereço: {self.endereco}, Gênero: {self.genero}\"\n",
        "\n",
        "class Cadastro:\n",
        "    def __init__(self):\n",
        "        self.pessoas = []\n",
        "\n",
        "    def adicionar_pessoa(self, pessoa):\n",
        "        self.pessoas.append(pessoa)\n",
        "\n",
        "    def listar_pessoas(self):\n",
        "        for pessoa in self.pessoas:\n",
        "            print(pessoa.apresentar())\n",
        "\n",
        "\n",
        "cadastro = Cadastro()\n",
        "\n",
        "\n",
        "pessoa1 = Pessoa(\"Gal\", 18, \"Rua rio pardo, 190\", \"feminino\")\n",
        "pessoa2 = Pessoa(\"Marcos\", 20, \"Rua rio pajéu, 45\", \"masculino\")\n",
        "\n",
        "cadastro.adicionar_pessoa(pessoa1)\n",
        "cadastro.adicionar_pessoa(pessoa2)\n",
        "\n",
        "cadastro.listar_pessoas()"
      ],
      "metadata": {
        "colab": {
          "base_uri": "https://localhost:8080/"
        },
        "id": "KtkdlHnj9ggD",
        "outputId": "d6dfcf5d-1fa6-47b4-e708-753930bb9322"
      },
      "execution_count": null,
      "outputs": [
        {
          "output_type": "stream",
          "name": "stdout",
          "text": [
            "Nome: Gal, Idade: 18, Endereço: Rua rio pardo, 190, Gênero: feminino\n",
            "Nome: Marcos, Idade: 20, Endereço: Rua rio pajéu, 45, Gênero: masculino\n"
          ]
        }
      ]
    },
    {
      "cell_type": "code",
      "source": [
        "class Escola:\n",
        "    def __init__(self, escola, endereco, tipo):\n",
        "        self.escola = escola\n",
        "        self.endereco = endereco\n",
        "        self.tipo = tipo\n",
        "\n",
        "    def apresentar(self):\n",
        "          return f\"Escola: {self.escola}, localizada,  {self.endereco}, e de ensino {self.tipo}.\"\n",
        "\n",
        "\n",
        "Escola = Escola(\"Escola: \" \"simões barbosa\",\"Endereço: \" \"Rua rio brigida, 10\", \"Tipo: \" \"pública\")\n",
        "\n",
        "print(Escola.escola)\n",
        "print(Escola.endereco)\n",
        "print(Escola.tipo)"
      ],
      "metadata": {
        "colab": {
          "base_uri": "https://localhost:8080/"
        },
        "id": "cnHVS6KhBwJ-",
        "outputId": "04baa1cc-d3a4-45ab-c611-c00ea52641ad"
      },
      "execution_count": null,
      "outputs": [
        {
          "output_type": "stream",
          "name": "stdout",
          "text": [
            "Escola: simões barbosa\n",
            "Endereço: Rua rio brigida, 10\n",
            "Tipo: pública\n"
          ]
        }
      ]
    },
    {
      "cell_type": "code",
      "source": [
        "class Empresa:\n",
        "    def __init__(self, nome, cnpj, endereco):\n",
        "        self.nome = nome\n",
        "        self.cnpj = cnpj\n",
        "        self.endereco = endereco\n",
        "\n",
        "    def __str__(self):\n",
        "        return f\"Nome: {self.nome}\\nCNPJ: {self.cnpj}\\nEndereço: {self.endereco}\"\n",
        "\n",
        "empresa1 = Empresa(\"Nestlé\", \"12.345.678/0001-90\", \" Rua beberibe, 123, Recife\")\n",
        "print(empresa1)\n"
      ],
      "metadata": {
        "id": "-i81z1XKq1ry",
        "colab": {
          "base_uri": "https://localhost:8080/"
        },
        "outputId": "3fac1bea-9b97-4704-82bd-e9cc1cffe95f"
      },
      "execution_count": null,
      "outputs": [
        {
          "output_type": "stream",
          "name": "stdout",
          "text": [
            "Nome: Nestlé\n",
            "CNPJ: 12.345.678/0001-90\n",
            "Endereço:  Rua beberibe, 123, Recife\n"
          ]
        }
      ]
    },
    {
      "cell_type": "code",
      "source": [
        "class Parceiro:\n",
        "    def __init__(self, nome, cnpj_cpf, endereco, telefone, email):\n",
        "        self.nome = nome\n",
        "        self.cnpj_cpf = cnpj_cpf\n",
        "        self.endereco = endereco\n",
        "        self.telefone = telefone\n",
        "        self.email = email\n",
        "\n",
        "    def __str__(self):\n",
        "        return f\"Nome: {self.nome}\\nCNPJ/CPF: {self.cnpj_cpf}\\nEndereço: {self.endereco}\\nTelefone: {self.telefone}\\nEmail: {self.email}\"\n",
        "\n",
        "parceiro1 = Parceiro(\"João Parceiro\", \"123.456.789-00\", \"Rua da alegria, 569, Recife\", \"81985023696\", \"joao@email.com\")\n",
        "print(parceiro1)\n"
      ],
      "metadata": {
        "colab": {
          "base_uri": "https://localhost:8080/"
        },
        "id": "M_l2ecQpykwD",
        "outputId": "d9644993-abfc-418b-cbb0-9dd10967f401"
      },
      "execution_count": null,
      "outputs": [
        {
          "output_type": "stream",
          "name": "stdout",
          "text": [
            "Nome: João Parceiro\n",
            "CNPJ/CPF: 123.456.789-00\n",
            "Endereço: Rua da alegria, 569, Recife\n",
            "Telefone: 81985023696\n",
            "Email: joao@email.com\n"
          ]
        }
      ]
    }
  ]
}